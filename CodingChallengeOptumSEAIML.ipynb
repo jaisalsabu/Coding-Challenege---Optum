{
  "nbformat": 4,
  "nbformat_minor": 0,
  "metadata": {
    "colab": {
      "provenance": []
    },
    "kernelspec": {
      "name": "python3",
      "display_name": "Python 3"
    },
    "language_info": {
      "name": "python"
    }
  },
  "cells": [
    {
      "cell_type": "code",
      "execution_count": 97,
      "metadata": {
        "id": "jpEVUtvDJyaX"
      },
      "outputs": [],
      "source": [
        "#we want to define a locker class, we want to define a package class. Write the best locker method.\n",
        "#the input to the method will be a package. \n",
        "#the lockers list can be statically defined list. \n"
      ]
    },
    {
      "cell_type": "markdown",
      "source": [
        "Created the class package with three dimensions namely height, width and depth"
      ],
      "metadata": {
        "id": "UNMFXZ6vRqVG"
      }
    },
    {
      "cell_type": "code",
      "source": [
        "class Package:\n",
        "    def __init__(self, width, height, depth):\n",
        "        self.width = width\n",
        "        self.height = height\n",
        "        self.depth = depth"
      ],
      "metadata": {
        "id": "ypPKs4y7Ucrh"
      },
      "execution_count": 98,
      "outputs": []
    },
    {
      "cell_type": "markdown",
      "source": [
        "Created the class Locker with dimensions and also set an avaialbity for the locker and a function to update the availablity when a package is stored. "
      ],
      "metadata": {
        "id": "21ZqB_mbR072"
      }
    },
    {
      "cell_type": "code",
      "source": [
        "class Locker:\n",
        "    def __init__(self, width, height, depth):\n",
        "        self.width = width\n",
        "        self.height = height\n",
        "        self.depth = depth\n",
        "        self.available_volume = width * height * depth\n",
        "        self.availability = True\n",
        "    def update_availability(self):\n",
        "      self.availability = False\n"
      ],
      "metadata": {
        "id": "ayarGUtnOHjG"
      },
      "execution_count": 99,
      "outputs": []
    },
    {
      "cell_type": "markdown",
      "source": [
        "the function that selects the optimal locker for the package. the input for the function is the package and the list of lockers created. \n",
        "the function also finds the optimal locker incase the locker of an exact size is not found. "
      ],
      "metadata": {
        "id": "ojKBrFkrSMul"
      }
    },
    {
      "cell_type": "code",
      "source": [
        "def find_optimal_locker(package, lockers):\n",
        "    optimal_locker = None\n",
        "    min_volume_difference = float(\"inf\")\n",
        "    for locker in lockers:\n",
        "        if package.width <= locker.width and package.height <= locker.height and package.depth <= locker.depth and locker.availability:\n",
        "            volume_difference = locker.available_volume - package.width * package.height * package.depth\n",
        "            if volume_difference < min_volume_difference:\n",
        "                min_volume_difference = volume_difference\n",
        "                optimal_locker = locker\n",
        "    if optimal_locker:\n",
        "        optimal_locker.update_availability()\n",
        "    return optimal_locker\n",
        "\n",
        "def confirm_selection(package, locker):\n",
        "    if locker:\n",
        "        print(f\"Optimal locker of dimensions {locker.width} x {locker.height} x {locker.depth} has been selected for package of dimensions {package.width} x {package.height} x {package.depth}\")\n",
        "        choice = input(\"Do you want to confirm the selection? (y/n)\")\n",
        "        if choice.lower() == \"y\":\n",
        "            locker.update_availability()\n",
        "            print(\"Package stored successfully!\")\n",
        "        else:\n",
        "            print(\"Selection not confirmed.\")\n",
        "    else:\n",
        "        print(\"No locker available for the package\")\n",
        "\n",
        "\n"
      ],
      "metadata": {
        "id": "pl0D5BeoOo2L"
      },
      "execution_count": 100,
      "outputs": []
    },
    {
      "cell_type": "markdown",
      "source": [
        "the below function confirms the selection of locker"
      ],
      "metadata": {
        "id": "A57eTBjiUWb6"
      }
    },
    {
      "cell_type": "markdown",
      "source": [
        "Created an object of package class"
      ],
      "metadata": {
        "id": "IAhz9ZXuSki1"
      }
    },
    {
      "cell_type": "code",
      "source": [
        "package = Package(1, 2, 3)\n"
      ],
      "metadata": {
        "id": "JlC41NPdhaqT"
      },
      "execution_count": 101,
      "outputs": []
    },
    {
      "cell_type": "markdown",
      "source": [
        "Created objects of the locker class"
      ],
      "metadata": {
        "id": "QbviGDiASnjA"
      }
    },
    {
      "cell_type": "code",
      "source": [
        "locker1 = Locker(3, 3, 3)\n",
        "locker2 = Locker(2, 2, 2)\n",
        "lockers = [locker1, locker2]"
      ],
      "metadata": {
        "id": "oWEg5bDUPnhJ"
      },
      "execution_count": 102,
      "outputs": []
    },
    {
      "cell_type": "markdown",
      "source": [
        "The below code uses the function to find the optimal locker for the package"
      ],
      "metadata": {
        "id": "Jqs90e9lSrWz"
      }
    },
    {
      "cell_type": "code",
      "source": [
        "optimal_locker = find_optimal_locker(package, lockers)\n",
        "#code to confirm selction of package\n",
        "confirm_selection(package, optimal_locker)\n",
        "\n",
        "    "
      ],
      "metadata": {
        "colab": {
          "base_uri": "https://localhost:8080/"
        },
        "id": "aUdiq15XQHdm",
        "outputId": "93443b87-2a8c-4127-cf04-657741bd9b1c"
      },
      "execution_count": 103,
      "outputs": [
        {
          "output_type": "stream",
          "name": "stdout",
          "text": [
            "Optimal locker of dimensions 3 x 3 x 3 has been selected for package of dimensions 1 x 2 x 3\n",
            "Do you want to confirm the selection? (y/n)y\n",
            "Package stored successfully!\n"
          ]
        }
      ]
    },
    {
      "cell_type": "markdown",
      "source": [
        "Some further developmenrts i would like to add \n",
        "-> use and enumerator to create different fixed sizes like S,M,L,XL\n",
        "-> using these sizes assign the packages to different lockers\n",
        "-> create a function confirm the locker being selected"
      ],
      "metadata": {
        "id": "nuoH_dK-S1dt"
      }
    },
    {
      "cell_type": "markdown",
      "source": [],
      "metadata": {
        "id": "NVSJ5TNBMYwJ"
      }
    }
  ]
}